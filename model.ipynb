{
 "cells": [
  {
   "cell_type": "code",
   "execution_count": 7,
   "id": "bc5dbcb9",
   "metadata": {},
   "outputs": [
    {
     "name": "stdout",
     "output_type": "stream",
     "text": [
      "Mean Absolute Error: 0.7779489795918371\n"
     ]
    }
   ],
   "source": [
    "# Required libraries\n",
    "import pandas as pd\n",
    "import seaborn as sns\n",
    "from sklearn.model_selection import train_test_split\n",
    "from sklearn.ensemble import RandomForestRegressor\n",
    "from sklearn.metrics import mean_absolute_error\n",
    "import pickle\n",
    "\n",
    "# Load the dataset\n",
    "data = sns.load_dataset('tips')\n",
    "\n",
    "# Mapping categorical variables manually\n",
    "sex_mapping = {'Male':0, 'Female':1}\n",
    "smoker_mapping = {'No':0, 'Yes':1}\n",
    "day_mapping = {'Thur':0, 'Fri':1, 'Sat':2, 'Sun':3}\n",
    "time_mapping = {'Lunch':0, 'Dinner':1}\n",
    "\n",
    "data['sex'] = data['sex'].map(sex_mapping)\n",
    "data['smoker'] = data['smoker'].map(smoker_mapping)\n",
    "data['day'] = data['day'].map(day_mapping)\n",
    "data['time']=data['time'].map(time_mapping)\n",
    "\n",
    "# Features and target variable\n",
    "x = data.drop(columns=['tip'])\n",
    "y = data['tip']\n",
    "\n",
    "# Split into training and testing data\n",
    "x_train,x_test,y_train,y_test = train_test_split(x,y,test_size=0.2,random_state=42)\n",
    "\n",
    "# Train the model\n",
    "model = RandomForestRegressor()\n",
    "model.fit(x_train,y_train)\n",
    "\n",
    "# Predictions and Evaluation\n",
    "y_pred = model.predict(x_test)\n",
    "mae = mean_absolute_error(y_test, y_pred)\n",
    "print(f\"Mean Absolute Error: {mae}\")\n",
    "\n",
    "# Model saving\n",
    "with open('model.pkl','wb') as model_file:\n",
    "  pickle.dump(model,model_file)\n"
   ]
  },
  {
   "cell_type": "code",
   "execution_count": 9,
   "id": "56a83282",
   "metadata": {},
   "outputs": [
    {
     "data": {
      "text/plain": [
       "Index(['total_bill', 'sex', 'smoker', 'day', 'time', 'size'], dtype='object')"
      ]
     },
     "execution_count": 9,
     "metadata": {},
     "output_type": "execute_result"
    }
   ],
   "source": [
    "x_train.columns"
   ]
  },
  {
   "cell_type": "code",
   "execution_count": 10,
   "id": "9cfa82a1",
   "metadata": {},
   "outputs": [
    {
     "data": {
      "text/plain": [
       "228    2.72\n",
       "208    2.03\n",
       "96     4.00\n",
       "167    4.50\n",
       "84     2.03\n",
       "       ... \n",
       "106    4.06\n",
       "14     3.02\n",
       "92     1.00\n",
       "179    3.55\n",
       "102    2.50\n",
       "Name: tip, Length: 195, dtype: float64"
      ]
     },
     "execution_count": 10,
     "metadata": {},
     "output_type": "execute_result"
    }
   ],
   "source": [
    "y_train"
   ]
  }
 ],
 "metadata": {
  "kernelspec": {
   "display_name": "env2",
   "language": "python",
   "name": "python3"
  },
  "language_info": {
   "codemirror_mode": {
    "name": "ipython",
    "version": 3
   },
   "file_extension": ".py",
   "mimetype": "text/x-python",
   "name": "python",
   "nbconvert_exporter": "python",
   "pygments_lexer": "ipython3",
   "version": "3.13.3"
  }
 },
 "nbformat": 4,
 "nbformat_minor": 5
}
